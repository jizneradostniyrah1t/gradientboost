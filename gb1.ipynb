{
 "cells": [
  {
   "cell_type": "markdown",
   "id": "7f9c1f83-a6d0-4bf0-8cb2-d4ae3055080f",
   "metadata": {},
   "source": [
    "<H1><center>Градиентный бустинг</center></H1>"
   ]
  },
  {
   "cell_type": "markdown",
   "id": "e75f1e7e-e8cb-4947-9b82-f997eb909ff2",
   "metadata": {},
   "source": [
    "<H4>Цель</H4>"
   ]
  },
  {
   "cell_type": "markdown",
   "id": "66d9948e-e4dc-4501-81df-3d3b1ef08a80",
   "metadata": {},
   "source": [
    "Предсказание оттока абонентов по имеющемуся набору данных при помощи модели XGBoost"
   ]
  },
  {
   "cell_type": "markdown",
   "id": "21c090ed-b812-4013-b64a-c83f973a1181",
   "metadata": {},
   "source": [
    "<H4>Задачи</H4>"
   ]
  },
  {
   "cell_type": "markdown",
   "id": "c48f169f-6f33-41b1-a0e4-d66c88c9f157",
   "metadata": {},
   "source": [
    "- Освоение методов считывания и обработки табличных данных в формате csv\n",
    "- Ознакомление с метриками эффективности решения accuracy и ROC AUC\n",
    "- Подбор параметров и обучение модели XGBoost"
   ]
  },
  {
   "cell_type": "markdown",
   "id": "a73fbf53-ba65-4121-8553-7403b1b27b25",
   "metadata": {},
   "source": [
    "<H4>Обозначения</H4>"
   ]
  },
  {
   "cell_type": "markdown",
   "id": "7c9a7884-55b8-445f-aa73-5c17f2b455f2",
   "metadata": {},
   "source": [
    "\\[1] ⭐ - Задание (звездочки - баллы, число - номер задания)  \n",
    "\\[1] 💫 - Конец задания"
   ]
  },
  {
   "cell_type": "markdown",
   "id": "82fb8886-713c-4de2-98ff-6306437e72f6",
   "metadata": {},
   "source": [
    "<H2>1. Входные данные</H2>"
   ]
  },
  {
   "cell_type": "markdown",
   "id": "6015227a-6f30-45b1-8f05-b621eca0957e",
   "metadata": {},
   "source": [
    "В данной лабораторной работе мы столкнемся с главной задачей всех методов машинного обучения - обработкой данных  \n",
    "Поэтому начнем с рассмотрения того, какие данные нам доступны "
   ]
  },
  {
   "cell_type": "markdown",
   "id": "9d8c900e-7c5e-4646-9007-2840f419e00d",
   "metadata": {},
   "source": [
    "Все входные файлы с данными лежат в директории <code>data</code>  \n",
    "Можете открыть ее и посмотреть содержимое, но лучше сделаем это как настоящие программисты"
   ]
  },
  {
   "cell_type": "code",
   "execution_count": 1,
   "id": "d1ac6fdf-ab6b-48d3-a053-f1d84eae6924",
   "metadata": {},
   "outputs": [
    {
     "name": "stdout",
     "output_type": "stream",
     "text": [
      "C:\\Users\\хуепутало\\Desktop\\учёба\\Jupyter-py3.8\\projects\\lab1\\data\\sample_submission.csv\n",
      "C:\\Users\\хуепутало\\Desktop\\учёба\\Jupyter-py3.8\\projects\\lab1\\data\\test.csv\n",
      "C:\\Users\\хуепутало\\Desktop\\учёба\\Jupyter-py3.8\\projects\\lab1\\data\\train.csv\n",
      "C:\\Users\\хуепутало\\Desktop\\учёба\\Jupyter-py3.8\\projects\\lab1\\data\\trained_example.csv\n"
     ]
    }
   ],
   "source": [
    "import os\n",
    "\n",
    "cur_dir = os.path.abspath('.')                               # полный путь к текущей директории\n",
    "data_dir = os.path.join(cur_dir, 'data')                     # путь к поддиректории data\n",
    "\n",
    "for dirname, subdirnames, filenames in os.walk(data_dir):    # рекурсивный обход всего файлового дерева внутри data_dir\n",
    "    for filename in filenames:\n",
    "        print(os.path.join(dirname, filename))"
   ]
  },
  {
   "cell_type": "markdown",
   "id": "6e7cab0b-7484-45e6-9814-04de379cc7d3",
   "metadata": {},
   "source": [
    "<br>Теперь мы знаем, что в <code>data</code> лежат 4 файла:\n",
    "- train.csv - данные для тренировки модели\n",
    "- test.csv - данные для тестирования модели\n",
    "- sample_submission.csv - пример выходного файла для тестового набора данных\n",
    "- trained_example.csv - пример выходного файла для тренировочного набора данных"
   ]
  },
  {
   "cell_type": "markdown",
   "id": "48ac934f-db1d-4819-a731-c4531e863adc",
   "metadata": {},
   "source": [
    "<H3>1.1. Считывание</H3>"
   ]
  },
  {
   "cell_type": "markdown",
   "id": "68ff3c5a-1d75-4fc9-917d-acdb91316d7d",
   "metadata": {},
   "source": [
    "Посмотрим для начала, как устроен csv файл, на примере <code>train.csv</code>"
   ]
  },
  {
   "cell_type": "code",
   "execution_count": 2,
   "id": "e153dcf4-5bb9-4100-93f2-9ac1d057e50b",
   "metadata": {},
   "outputs": [
    {
     "data": {
      "text/plain": [
       "['id,Leave_Next_Month,Gender,Pensioner,Married,Children,Months_with_company,Phone_Service,Multiple_Lines,Internet_Service,Online_Security,Online_Backup,Device_Protection,Tech_Support,Streaming_TV,Streaming_Movies,Type_contract,Paperless_Billing,Payment_Method,Monthly_Payment,Total_Payment\\n',\n",
       " '104,1,F,0,N,N,2,Y,N,Fiber optic,N,N,N,N,N,N,Per_month,Y,Check_electron,70.7,151.65\\n',\n",
       " '107,0,F,0,N,N,10,N,No_phone,DSL,Y,N,N,N,N,N,Per_month,N,Check_mailed,29.75,301.9\\n',\n",
       " '108,1,F,0,Y,N,28,Y,Y,Fiber optic,N,N,Y,Y,Y,Y,Per_month,Y,Check_electron,104.8,3046.05\\n',\n",
       " '109,0,M,0,N,Y,62,Y,N,DSL,Y,Y,N,N,N,N,Year-1,N,Bank_transfer_auto,56.15,3487.95\\n',\n",
       " '111,0,M,0,N,N,16,Y,N,N,No_internet,No_internet,No_internet,No_internet,No_internet,No_internet,Year-2,N,Credit_card_auto,18.95,326.8\\n']"
      ]
     },
     "execution_count": 2,
     "metadata": {},
     "output_type": "execute_result"
    }
   ],
   "source": [
    "train_file = os.path.join(data_dir, 'train.csv')\n",
    "\n",
    "with open(train_file, 'r') as f:        # открываем файл на чтение ('r')\n",
    "                                        # f - переменная, указывающая на объект открытого файла\n",
    "                                        # далее идет выделенный отступами блок кода, в котором этот файл доступен\n",
    "                                        # при выходе из блока файл закрывается автоматически, и переменная f удаляется из текущего пространства имен\n",
    "    lines = list(f)\n",
    "\n",
    "lines[:6]       # выведем первые 6 строк файла"
   ]
  },
  {
   "cell_type": "markdown",
   "id": "7f337313-e52f-4667-bfb4-bc60c63edd1a",
   "metadata": {},
   "source": [
    "<br>По сути в csv файле записана таблица  \n",
    "Строки таблицы разделены переносом строки, а ячейки внутри строки - запятыми  \n",
    "В первой строке записаны заголовки, в остальных - данные"
   ]
  },
  {
   "cell_type": "markdown",
   "id": "94c62dbd-58c0-4d96-a9fd-1f32a0b07cbe",
   "metadata": {},
   "source": [
    "Используем функцию <code>read_csv</code> из модуля <code>pandas</code>, чтобы считать тот же файл в нормальную структуру данных"
   ]
  },
  {
   "cell_type": "code",
   "execution_count": 3,
   "id": "28c7cb2f-8302-4157-9004-056e4989c798",
   "metadata": {},
   "outputs": [
    {
     "name": "stdout",
     "output_type": "stream",
     "text": [
      "<class 'pandas.core.frame.DataFrame'>\n"
     ]
    },
    {
     "data": {
      "text/html": [
       "<div>\n",
       "<style scoped>\n",
       "    .dataframe tbody tr th:only-of-type {\n",
       "        vertical-align: middle;\n",
       "    }\n",
       "\n",
       "    .dataframe tbody tr th {\n",
       "        vertical-align: top;\n",
       "    }\n",
       "\n",
       "    .dataframe thead th {\n",
       "        text-align: right;\n",
       "    }\n",
       "</style>\n",
       "<table border=\"1\" class=\"dataframe\">\n",
       "  <thead>\n",
       "    <tr style=\"text-align: right;\">\n",
       "      <th></th>\n",
       "      <th>id</th>\n",
       "      <th>Leave_Next_Month</th>\n",
       "      <th>Gender</th>\n",
       "      <th>Pensioner</th>\n",
       "      <th>Married</th>\n",
       "      <th>Children</th>\n",
       "      <th>Months_with_company</th>\n",
       "      <th>Phone_Service</th>\n",
       "      <th>Multiple_Lines</th>\n",
       "      <th>Internet_Service</th>\n",
       "      <th>...</th>\n",
       "      <th>Online_Backup</th>\n",
       "      <th>Device_Protection</th>\n",
       "      <th>Tech_Support</th>\n",
       "      <th>Streaming_TV</th>\n",
       "      <th>Streaming_Movies</th>\n",
       "      <th>Type_contract</th>\n",
       "      <th>Paperless_Billing</th>\n",
       "      <th>Payment_Method</th>\n",
       "      <th>Monthly_Payment</th>\n",
       "      <th>Total_Payment</th>\n",
       "    </tr>\n",
       "  </thead>\n",
       "  <tbody>\n",
       "    <tr>\n",
       "      <th>0</th>\n",
       "      <td>104</td>\n",
       "      <td>1</td>\n",
       "      <td>F</td>\n",
       "      <td>0</td>\n",
       "      <td>N</td>\n",
       "      <td>N</td>\n",
       "      <td>2</td>\n",
       "      <td>Y</td>\n",
       "      <td>N</td>\n",
       "      <td>Fiber optic</td>\n",
       "      <td>...</td>\n",
       "      <td>N</td>\n",
       "      <td>N</td>\n",
       "      <td>N</td>\n",
       "      <td>N</td>\n",
       "      <td>N</td>\n",
       "      <td>Per_month</td>\n",
       "      <td>Y</td>\n",
       "      <td>Check_electron</td>\n",
       "      <td>70.70</td>\n",
       "      <td>151.65</td>\n",
       "    </tr>\n",
       "    <tr>\n",
       "      <th>1</th>\n",
       "      <td>107</td>\n",
       "      <td>0</td>\n",
       "      <td>F</td>\n",
       "      <td>0</td>\n",
       "      <td>N</td>\n",
       "      <td>N</td>\n",
       "      <td>10</td>\n",
       "      <td>N</td>\n",
       "      <td>No_phone</td>\n",
       "      <td>DSL</td>\n",
       "      <td>...</td>\n",
       "      <td>N</td>\n",
       "      <td>N</td>\n",
       "      <td>N</td>\n",
       "      <td>N</td>\n",
       "      <td>N</td>\n",
       "      <td>Per_month</td>\n",
       "      <td>N</td>\n",
       "      <td>Check_mailed</td>\n",
       "      <td>29.75</td>\n",
       "      <td>301.90</td>\n",
       "    </tr>\n",
       "    <tr>\n",
       "      <th>2</th>\n",
       "      <td>108</td>\n",
       "      <td>1</td>\n",
       "      <td>F</td>\n",
       "      <td>0</td>\n",
       "      <td>Y</td>\n",
       "      <td>N</td>\n",
       "      <td>28</td>\n",
       "      <td>Y</td>\n",
       "      <td>Y</td>\n",
       "      <td>Fiber optic</td>\n",
       "      <td>...</td>\n",
       "      <td>N</td>\n",
       "      <td>Y</td>\n",
       "      <td>Y</td>\n",
       "      <td>Y</td>\n",
       "      <td>Y</td>\n",
       "      <td>Per_month</td>\n",
       "      <td>Y</td>\n",
       "      <td>Check_electron</td>\n",
       "      <td>104.80</td>\n",
       "      <td>3046.05</td>\n",
       "    </tr>\n",
       "    <tr>\n",
       "      <th>3</th>\n",
       "      <td>109</td>\n",
       "      <td>0</td>\n",
       "      <td>M</td>\n",
       "      <td>0</td>\n",
       "      <td>N</td>\n",
       "      <td>Y</td>\n",
       "      <td>62</td>\n",
       "      <td>Y</td>\n",
       "      <td>N</td>\n",
       "      <td>DSL</td>\n",
       "      <td>...</td>\n",
       "      <td>Y</td>\n",
       "      <td>N</td>\n",
       "      <td>N</td>\n",
       "      <td>N</td>\n",
       "      <td>N</td>\n",
       "      <td>Year-1</td>\n",
       "      <td>N</td>\n",
       "      <td>Bank_transfer_auto</td>\n",
       "      <td>56.15</td>\n",
       "      <td>3487.95</td>\n",
       "    </tr>\n",
       "    <tr>\n",
       "      <th>4</th>\n",
       "      <td>111</td>\n",
       "      <td>0</td>\n",
       "      <td>M</td>\n",
       "      <td>0</td>\n",
       "      <td>N</td>\n",
       "      <td>N</td>\n",
       "      <td>16</td>\n",
       "      <td>Y</td>\n",
       "      <td>N</td>\n",
       "      <td>N</td>\n",
       "      <td>...</td>\n",
       "      <td>No_internet</td>\n",
       "      <td>No_internet</td>\n",
       "      <td>No_internet</td>\n",
       "      <td>No_internet</td>\n",
       "      <td>No_internet</td>\n",
       "      <td>Year-2</td>\n",
       "      <td>N</td>\n",
       "      <td>Credit_card_auto</td>\n",
       "      <td>18.95</td>\n",
       "      <td>326.80</td>\n",
       "    </tr>\n",
       "  </tbody>\n",
       "</table>\n",
       "<p>5 rows × 21 columns</p>\n",
       "</div>"
      ],
      "text/plain": [
       "    id  Leave_Next_Month Gender  Pensioner Married Children  \\\n",
       "0  104                 1      F          0       N        N   \n",
       "1  107                 0      F          0       N        N   \n",
       "2  108                 1      F          0       Y        N   \n",
       "3  109                 0      M          0       N        Y   \n",
       "4  111                 0      M          0       N        N   \n",
       "\n",
       "   Months_with_company Phone_Service Multiple_Lines Internet_Service  ...  \\\n",
       "0                    2             Y              N      Fiber optic  ...   \n",
       "1                   10             N       No_phone              DSL  ...   \n",
       "2                   28             Y              Y      Fiber optic  ...   \n",
       "3                   62             Y              N              DSL  ...   \n",
       "4                   16             Y              N                N  ...   \n",
       "\n",
       "  Online_Backup Device_Protection Tech_Support Streaming_TV Streaming_Movies  \\\n",
       "0             N                 N            N            N                N   \n",
       "1             N                 N            N            N                N   \n",
       "2             N                 Y            Y            Y                Y   \n",
       "3             Y                 N            N            N                N   \n",
       "4   No_internet       No_internet  No_internet  No_internet      No_internet   \n",
       "\n",
       "  Type_contract Paperless_Billing      Payment_Method Monthly_Payment  \\\n",
       "0     Per_month                 Y      Check_electron           70.70   \n",
       "1     Per_month                 N        Check_mailed           29.75   \n",
       "2     Per_month                 Y      Check_electron          104.80   \n",
       "3        Year-1                 N  Bank_transfer_auto           56.15   \n",
       "4        Year-2                 N    Credit_card_auto           18.95   \n",
       "\n",
       "   Total_Payment  \n",
       "0         151.65  \n",
       "1         301.90  \n",
       "2        3046.05  \n",
       "3        3487.95  \n",
       "4         326.80  \n",
       "\n",
       "[5 rows x 21 columns]"
      ]
     },
     "execution_count": 3,
     "metadata": {},
     "output_type": "execute_result"
    }
   ],
   "source": [
    "import pandas as pd\n",
    "\n",
    "train = pd.read_csv(train_file)\n",
    "\n",
    "print(type(train))    # посмотрим тип данных считанной таблицы\n",
    "train.head(5)         # выведем первые 5 строк"
   ]
  },
  {
   "cell_type": "markdown",
   "id": "99bb450b-7305-452b-b84f-75164649d8bb",
   "metadata": {},
   "source": [
    "<br>Лучше? Лучше!  \n",
    "Теперь с нашими данными можно работать"
   ]
  },
  {
   "cell_type": "markdown",
   "id": "91c70e19-02d4-4436-bff6-014c5f883792",
   "metadata": {},
   "source": [
    "<center>[1] ⭐</center>"
   ]
  },
  {
   "cell_type": "markdown",
   "id": "a4c95bfa-3f63-4b6c-ad96-cbba2a658fec",
   "metadata": {},
   "source": [
    "Считайте таким же образом таблицу из файла <code>test.csv</code> и положите ее в переменную test  \n",
    "Выведите первые 3 строки"
   ]
  },
  {
   "cell_type": "code",
   "execution_count": 4,
   "id": "35dbd27d-fa8f-4ccc-b04c-b3422272cac5",
   "metadata": {},
   "outputs": [
    {
     "data": {
      "text/html": [
       "<div>\n",
       "<style scoped>\n",
       "    .dataframe tbody tr th:only-of-type {\n",
       "        vertical-align: middle;\n",
       "    }\n",
       "\n",
       "    .dataframe tbody tr th {\n",
       "        vertical-align: top;\n",
       "    }\n",
       "\n",
       "    .dataframe thead th {\n",
       "        text-align: right;\n",
       "    }\n",
       "</style>\n",
       "<table border=\"1\" class=\"dataframe\">\n",
       "  <thead>\n",
       "    <tr style=\"text-align: right;\">\n",
       "      <th></th>\n",
       "      <th>id</th>\n",
       "      <th>Leave_Next_Month</th>\n",
       "      <th>Gender</th>\n",
       "      <th>Pensioner</th>\n",
       "      <th>Married</th>\n",
       "      <th>Children</th>\n",
       "      <th>Months_with_company</th>\n",
       "      <th>Phone_Service</th>\n",
       "      <th>Multiple_Lines</th>\n",
       "      <th>Internet_Service</th>\n",
       "      <th>...</th>\n",
       "      <th>Online_Backup</th>\n",
       "      <th>Device_Protection</th>\n",
       "      <th>Tech_Support</th>\n",
       "      <th>Streaming_TV</th>\n",
       "      <th>Streaming_Movies</th>\n",
       "      <th>Type_contract</th>\n",
       "      <th>Paperless_Billing</th>\n",
       "      <th>Payment_Method</th>\n",
       "      <th>Monthly_Payment</th>\n",
       "      <th>Total_Payment</th>\n",
       "    </tr>\n",
       "  </thead>\n",
       "  <tbody>\n",
       "    <tr>\n",
       "      <th>0</th>\n",
       "      <td>104</td>\n",
       "      <td>1</td>\n",
       "      <td>F</td>\n",
       "      <td>0</td>\n",
       "      <td>N</td>\n",
       "      <td>N</td>\n",
       "      <td>2</td>\n",
       "      <td>Y</td>\n",
       "      <td>N</td>\n",
       "      <td>Fiber optic</td>\n",
       "      <td>...</td>\n",
       "      <td>N</td>\n",
       "      <td>N</td>\n",
       "      <td>N</td>\n",
       "      <td>N</td>\n",
       "      <td>N</td>\n",
       "      <td>Per_month</td>\n",
       "      <td>Y</td>\n",
       "      <td>Check_electron</td>\n",
       "      <td>70.70</td>\n",
       "      <td>151.65</td>\n",
       "    </tr>\n",
       "    <tr>\n",
       "      <th>1</th>\n",
       "      <td>107</td>\n",
       "      <td>0</td>\n",
       "      <td>F</td>\n",
       "      <td>0</td>\n",
       "      <td>N</td>\n",
       "      <td>N</td>\n",
       "      <td>10</td>\n",
       "      <td>N</td>\n",
       "      <td>No_phone</td>\n",
       "      <td>DSL</td>\n",
       "      <td>...</td>\n",
       "      <td>N</td>\n",
       "      <td>N</td>\n",
       "      <td>N</td>\n",
       "      <td>N</td>\n",
       "      <td>N</td>\n",
       "      <td>Per_month</td>\n",
       "      <td>N</td>\n",
       "      <td>Check_mailed</td>\n",
       "      <td>29.75</td>\n",
       "      <td>301.90</td>\n",
       "    </tr>\n",
       "    <tr>\n",
       "      <th>2</th>\n",
       "      <td>108</td>\n",
       "      <td>1</td>\n",
       "      <td>F</td>\n",
       "      <td>0</td>\n",
       "      <td>Y</td>\n",
       "      <td>N</td>\n",
       "      <td>28</td>\n",
       "      <td>Y</td>\n",
       "      <td>Y</td>\n",
       "      <td>Fiber optic</td>\n",
       "      <td>...</td>\n",
       "      <td>N</td>\n",
       "      <td>Y</td>\n",
       "      <td>Y</td>\n",
       "      <td>Y</td>\n",
       "      <td>Y</td>\n",
       "      <td>Per_month</td>\n",
       "      <td>Y</td>\n",
       "      <td>Check_electron</td>\n",
       "      <td>104.80</td>\n",
       "      <td>3046.05</td>\n",
       "    </tr>\n",
       "  </tbody>\n",
       "</table>\n",
       "<p>3 rows × 21 columns</p>\n",
       "</div>"
      ],
      "text/plain": [
       "    id  Leave_Next_Month Gender  Pensioner Married Children  \\\n",
       "0  104                 1      F          0       N        N   \n",
       "1  107                 0      F          0       N        N   \n",
       "2  108                 1      F          0       Y        N   \n",
       "\n",
       "   Months_with_company Phone_Service Multiple_Lines Internet_Service  ...  \\\n",
       "0                    2             Y              N      Fiber optic  ...   \n",
       "1                   10             N       No_phone              DSL  ...   \n",
       "2                   28             Y              Y      Fiber optic  ...   \n",
       "\n",
       "  Online_Backup Device_Protection Tech_Support Streaming_TV Streaming_Movies  \\\n",
       "0             N                 N            N            N                N   \n",
       "1             N                 N            N            N                N   \n",
       "2             N                 Y            Y            Y                Y   \n",
       "\n",
       "  Type_contract Paperless_Billing  Payment_Method Monthly_Payment  \\\n",
       "0     Per_month                 Y  Check_electron           70.70   \n",
       "1     Per_month                 N    Check_mailed           29.75   \n",
       "2     Per_month                 Y  Check_electron          104.80   \n",
       "\n",
       "   Total_Payment  \n",
       "0         151.65  \n",
       "1         301.90  \n",
       "2        3046.05  \n",
       "\n",
       "[3 rows x 21 columns]"
      ]
     },
     "execution_count": 4,
     "metadata": {},
     "output_type": "execute_result"
    }
   ],
   "source": [
    "test_file = os.path.join(data_dir, 'test.csv')\n",
    "\n",
    "test = pd.read_csv(test_file)\n",
    "\n",
    "\n",
    "train.head(3) "
   ]
  },
  {
   "cell_type": "markdown",
   "id": "7d47d1c4-8ff9-4d3e-8b43-f98504b4e5be",
   "metadata": {},
   "source": [
    "<center>[1] 💫</center>"
   ]
  },
  {
   "cell_type": "markdown",
   "id": "df9e5689-c126-46ca-ab82-f7dd2dca4ad6",
   "metadata": {},
   "source": [
    "<H3>1.2. Анализ</H3>"
   ]
  },
  {
   "cell_type": "markdown",
   "id": "dba744f5-d913-4836-99c9-758de6df2c18",
   "metadata": {},
   "source": [
    "Проведем небольшое исследование имеющихся данных"
   ]
  },
  {
   "cell_type": "markdown",
   "id": "1b5e1f49-a579-4a8d-bd34-2947212da3cb",
   "metadata": {},
   "source": [
    "<center>[2] ⭐</center>"
   ]
  },
  {
   "cell_type": "markdown",
   "id": "6631eb12-f719-471d-b6bf-dd6098f1628d",
   "metadata": {},
   "source": [
    "Для начала вспомним, чем тренировочные данные отличаются от тестовых"
   ]
  },
  {
   "cell_type": "markdown",
   "id": "db128c03-e18e-4f8e-84b5-c5475ecbb6d6",
   "metadata": {},
   "source": [
    "Тренировочные данные преднозначены для обучения машины. Тестовые данные предназначены для проверки машины."
   ]
  },
  {
   "cell_type": "markdown",
   "id": "25cf0df0-4e91-41ca-8caa-e9ccfd9608b6",
   "metadata": {},
   "source": [
    "<center>[2] 💫</center>"
   ]
  },
  {
   "cell_type": "markdown",
   "id": "49c06b58-5941-4485-a8a3-c0208bd9f6b9",
   "metadata": {},
   "source": [
    "Теперь посмотрим, какие заголовки есть в таблицах <code>train</code> и <code>test</code>"
   ]
  },
  {
   "cell_type": "code",
   "execution_count": 5,
   "id": "1c2078c1-3f2e-402d-be38-b94779827c93",
   "metadata": {},
   "outputs": [
    {
     "name": "stdout",
     "output_type": "stream",
     "text": [
      "Список заголовков в train.csv: ['id', 'Leave_Next_Month', 'Gender', 'Pensioner', 'Married', 'Children', 'Months_with_company', 'Phone_Service', 'Multiple_Lines', 'Internet_Service', 'Online_Security', 'Online_Backup', 'Device_Protection', 'Tech_Support', 'Streaming_TV', 'Streaming_Movies', 'Type_contract', 'Paperless_Billing', 'Payment_Method', 'Monthly_Payment', 'Total_Payment']\n",
      "\n",
      "Список заголовков в test.csv: ['id', 'Gender', 'Pensioner', 'Married', 'Children', 'Months_with_company', 'Phone_Service', 'Multiple_Lines', 'Internet_Service', 'Online_Security', 'Online_Backup', 'Device_Protection', 'Tech_Support', 'Streaming_TV', 'Streaming_Movies', 'Type_contract', 'Paperless_Billing', 'Payment_Method', 'Monthly_Payment', 'Total_Payment']\n"
     ]
    }
   ],
   "source": [
    "print('Список заголовков в train.csv:', list(train.columns.values))\n",
    "print('')\n",
    "print('Список заголовков в test.csv:', list(test.columns.values))"
   ]
  },
  {
   "cell_type": "markdown",
   "id": "46d0008b-0f65-4aab-af27-8aa14d67f0cd",
   "metadata": {},
   "source": [
    "<br>Заметим, что в <code>test.csv</code> отсутствует заголовок <code>Leave_Next_Month</code>  \n",
    "Это и есть параметр, значение которого должна будет предсказывать наша модель  \n",
    "\n",
    "Остальные параметры (кроме id) будут использоваться для обучения  \n",
    "Запишем их сразу в переменную features"
   ]
  },
  {
   "cell_type": "code",
   "execution_count": 6,
   "id": "84991d30-67ee-41ef-9f3c-53f129383b80",
   "metadata": {},
   "outputs": [
    {
     "data": {
      "text/plain": [
       "['Gender',\n",
       " 'Pensioner',\n",
       " 'Married',\n",
       " 'Children',\n",
       " 'Months_with_company',\n",
       " 'Phone_Service',\n",
       " 'Multiple_Lines',\n",
       " 'Internet_Service',\n",
       " 'Online_Security',\n",
       " 'Online_Backup',\n",
       " 'Device_Protection',\n",
       " 'Tech_Support',\n",
       " 'Streaming_TV',\n",
       " 'Streaming_Movies',\n",
       " 'Type_contract',\n",
       " 'Paperless_Billing',\n",
       " 'Payment_Method',\n",
       " 'Monthly_Payment',\n",
       " 'Total_Payment']"
      ]
     },
     "execution_count": 6,
     "metadata": {},
     "output_type": "execute_result"
    }
   ],
   "source": [
    "features = list(test.columns.values)\n",
    "features.remove('id')\n",
    "\n",
    "features"
   ]
  },
  {
   "cell_type": "markdown",
   "id": "39b399c4-ea1b-496d-943c-475f645c4279",
   "metadata": {},
   "source": [
    "<br>Посмотрим статистику по отдельному параметру  "
   ]
  },
  {
   "cell_type": "code",
   "execution_count": 7,
   "id": "4de36430-adaf-4ac0-9020-b7e776819fab",
   "metadata": {},
   "outputs": [
    {
     "data": {
      "text/plain": [
       "0       F\n",
       "1       F\n",
       "2       F\n",
       "3       M\n",
       "4       M\n",
       "       ..\n",
       "3516    M\n",
       "3517    F\n",
       "3518    M\n",
       "3519    F\n",
       "3520    M\n",
       "Name: Gender, Length: 3521, dtype: object"
      ]
     },
     "execution_count": 7,
     "metadata": {},
     "output_type": "execute_result"
    }
   ],
   "source": [
    "feature = 'Gender'\n",
    "\n",
    "values = train[feature]        # берем все значения таблицы из столбца 'Gender'\n",
    "values"
   ]
  },
  {
   "cell_type": "code",
   "execution_count": 8,
   "id": "abba26cf-f3ef-4de2-835a-6885f537f323",
   "metadata": {},
   "outputs": [
    {
     "data": {
      "text/plain": [
       "dtype('O')"
      ]
     },
     "execution_count": 8,
     "metadata": {},
     "output_type": "execute_result"
    }
   ],
   "source": [
    "train[feature].dtype           # проверяем тип данных (в разных столбцах могут быть разные типы!)"
   ]
  },
  {
   "cell_type": "code",
   "execution_count": 9,
   "id": "a8cc320f-35d7-4024-b910-6e7a7af6db8e",
   "metadata": {},
   "outputs": [
    {
     "data": {
      "text/plain": [
       "count     3521\n",
       "unique       2\n",
       "top          F\n",
       "freq      1811\n",
       "Name: Gender, dtype: object"
      ]
     },
     "execution_count": 9,
     "metadata": {},
     "output_type": "execute_result"
    }
   ],
   "source": [
    "train[feature].describe()      # смотрим краткую статистику"
   ]
  },
  {
   "cell_type": "code",
   "execution_count": 10,
   "id": "96c04692-ccea-4b5d-a9bc-a3a2e69f4d86",
   "metadata": {},
   "outputs": [
    {
     "data": {
      "text/plain": [
       "array(['F', 'M'], dtype=object)"
      ]
     },
     "execution_count": 10,
     "metadata": {},
     "output_type": "execute_result"
    }
   ],
   "source": [
    "train[feature].unique()        # смотрим уникальные значения"
   ]
  },
  {
   "cell_type": "markdown",
   "id": "5fd0dfc3-5edc-4608-8e61-36c285883cce",
   "metadata": {},
   "source": [
    "<center>[3] ⭐</center>"
   ]
  },
  {
   "cell_type": "markdown",
   "id": "43c526a4-f32e-4c7a-83e1-86f27410023d",
   "metadata": {},
   "source": [
    "Теперь выведите то же самое для всех параметров в таблице <code>train</code> (кроме id)  \n",
    "Список уникальных значений выводите в том случае, если тип данных - <code>object</code>"
   ]
  },
  {
   "cell_type": "code",
   "execution_count": 11,
   "id": "abe57c13-07ac-4360-a631-029320dd455f",
   "metadata": {},
   "outputs": [
    {
     "name": "stdout",
     "output_type": "stream",
     "text": [
      "object\n",
      "count     3521\n",
      "unique       2\n",
      "top          F\n",
      "freq      1811\n",
      "Name: Gender, dtype: object\n",
      "['F' 'M']\n",
      "int64\n",
      "count    3521.000000\n",
      "mean        0.159898\n",
      "std         0.366563\n",
      "min         0.000000\n",
      "25%         0.000000\n",
      "50%         0.000000\n",
      "75%         0.000000\n",
      "max         1.000000\n",
      "Name: Pensioner, dtype: float64\n",
      "object\n",
      "count     3521\n",
      "unique       2\n",
      "top          N\n",
      "freq      1828\n",
      "Name: Married, dtype: object\n",
      "['N' 'Y']\n",
      "object\n",
      "count     3521\n",
      "unique       2\n",
      "top          N\n",
      "freq      2482\n",
      "Name: Children, dtype: object\n",
      "['N' 'Y']\n",
      "int64\n",
      "count    3521.000000\n",
      "mean       32.391082\n",
      "std        24.687193\n",
      "min         0.000000\n",
      "25%         9.000000\n",
      "50%        29.000000\n",
      "75%        56.000000\n",
      "max        72.000000\n",
      "Name: Months_with_company, dtype: float64\n",
      "object\n",
      "count     3521\n",
      "unique       2\n",
      "top          Y\n",
      "freq      3194\n",
      "Name: Phone_Service, dtype: object\n",
      "['Y' 'N']\n",
      "object\n",
      "count     3521\n",
      "unique       3\n",
      "top          N\n",
      "freq      1680\n",
      "Name: Multiple_Lines, dtype: object\n",
      "['N' 'No_phone' 'Y']\n",
      "object\n",
      "count            3521\n",
      "unique              3\n",
      "top       Fiber optic\n",
      "freq             1571\n",
      "Name: Internet_Service, dtype: object\n",
      "['Fiber optic' 'DSL' 'N']\n",
      "object\n",
      "count     3521\n",
      "unique       3\n",
      "top          N\n",
      "freq      1746\n",
      "Name: Online_Security, dtype: object\n",
      "['N' 'Y' 'No_internet']\n",
      "object\n",
      "count     3521\n",
      "unique       3\n",
      "top          N\n",
      "freq      1554\n",
      "Name: Online_Backup, dtype: object\n",
      "['N' 'Y' 'No_internet']\n",
      "object\n",
      "count     3521\n",
      "unique       3\n",
      "top          N\n",
      "freq      1569\n",
      "Name: Device_Protection, dtype: object\n",
      "['N' 'Y' 'No_internet']\n",
      "object\n",
      "count     3521\n",
      "unique       3\n",
      "top          N\n",
      "freq      1735\n",
      "Name: Tech_Support, dtype: object\n",
      "['N' 'Y' 'No_internet']\n",
      "object\n",
      "count     3521\n",
      "unique       3\n",
      "top          N\n",
      "freq      1420\n",
      "Name: Streaming_TV, dtype: object\n",
      "['N' 'Y' 'No_internet']\n",
      "object\n",
      "count     3521\n",
      "unique       3\n",
      "top          N\n",
      "freq      1393\n",
      "Name: Streaming_Movies, dtype: object\n",
      "['N' 'Y' 'No_internet']\n",
      "object\n",
      "count          3521\n",
      "unique            3\n",
      "top       Per_month\n",
      "freq           1948\n",
      "Name: Type_contract, dtype: object\n",
      "['Per_month' 'Year-1' 'Year-2']\n",
      "object\n",
      "count     3521\n",
      "unique       2\n",
      "top          Y\n",
      "freq      2124\n",
      "Name: Paperless_Billing, dtype: object\n",
      "['Y' 'N']\n",
      "object\n",
      "count               3521\n",
      "unique                 4\n",
      "top       Check_electron\n",
      "freq                1194\n",
      "Name: Payment_Method, dtype: object\n",
      "['Check_electron' 'Check_mailed' 'Bank_transfer_auto' 'Credit_card_auto']\n",
      "float64\n",
      "count    3521.000000\n",
      "mean       65.017296\n",
      "std        30.108519\n",
      "min        18.400000\n",
      "25%        35.450000\n",
      "50%        70.500000\n",
      "75%        89.950000\n",
      "max       118.750000\n",
      "Name: Monthly_Payment, dtype: float64\n",
      "float64\n",
      "count    3521.000000\n",
      "mean     2275.397700\n",
      "std      2269.365708\n",
      "min         0.000000\n",
      "25%       399.450000\n",
      "50%      1398.600000\n",
      "75%      3765.050000\n",
      "max      8672.450000\n",
      "Name: Total_Payment, dtype: float64\n"
     ]
    }
   ],
   "source": [
    "values = train[features]\n",
    "values\n",
    "for f in features:\n",
    "    print(train[f].dtype)\n",
    "    print(train[f].describe())\n",
    "    if train[f].dtype==object:\n",
    "        print(train[f].unique())"
   ]
  },
  {
   "cell_type": "markdown",
   "id": "4ee729da-0d61-4453-8447-3d540205dfd9",
   "metadata": {},
   "source": [
    "<center>[3] 💫</center>"
   ]
  },
  {
   "cell_type": "code",
   "execution_count": null,
   "id": "a3bab5b6-aecd-4583-b549-7d1beb942feb",
   "metadata": {},
   "outputs": [],
   "source": []
  },
  {
   "cell_type": "markdown",
   "id": "9f51f819-c962-4a55-be6c-77f2e5301685",
   "metadata": {},
   "source": [
    "<H3>1.3. Кодирование</H3>"
   ]
  },
  {
   "cell_type": "markdown",
   "id": "4c6f924c-14e1-4467-bebd-5d58f34b273c",
   "metadata": {},
   "source": [
    "Как вы уже поняли, в таблице могут быть данные не только числовых типов  \n",
    "В нашем случае в некоторых столбцах содержатся данные о принадлежности абонента к какому-либо классу  \n",
    "Например, столбец Gender, который мы рассмотрели отдельно, делит абонентов на 2 класса: M и F"
   ]
  },
  {
   "cell_type": "markdown",
   "id": "5d3cca4e-1724-49e5-87cb-1756770c725a",
   "metadata": {},
   "source": [
    "Для корректной работы модели эти классы необходимо представить в числовом виде  \n",
    "Воспользуемся <code>LabelEncoder</code> из модуля <code>sklearn</code>"
   ]
  },
  {
   "cell_type": "code",
   "execution_count": 12,
   "id": "9d525979-8cb9-4109-9fb3-60dd6db673b9",
   "metadata": {},
   "outputs": [
    {
     "data": {
      "text/plain": [
       "array(['F', 'M'], dtype='<U1')"
      ]
     },
     "execution_count": 12,
     "metadata": {},
     "output_type": "execute_result"
    }
   ],
   "source": [
    "from sklearn.preprocessing import LabelEncoder\n",
    "\n",
    "feature = 'Gender'\n",
    "\n",
    "le = LabelEncoder()                                                    # создаем объект LabelEncoder\n",
    "le.fit(list(train[feature].values) + list(test[feature].values))       # подаем ему полный список данных, которые необходимо закодировать числами\n",
    "train[feature] = le.transform(train[feature].values)                   # переписываем данные в тренировочной таблице в числовом виде\n",
    "test[feature] = le.transform(test[feature].values)                     # переписываем данные в тестовой таблице в числовом виде\n",
    "le.classes_                                                            # выводим исходный список классов"
   ]
  },
  {
   "cell_type": "markdown",
   "id": "c6a382c4-023b-4512-b988-12d3af8deabc",
   "metadata": {},
   "source": [
    "<center>[4] ⭐</center>"
   ]
  },
  {
   "cell_type": "markdown",
   "id": "64ba2f5f-0339-4df9-93f3-0c16e1c462e1",
   "metadata": {},
   "source": [
    "То же самое необходимо сделать для всех данных типа <code>object</code> в таблицах <code>train</code> и <code>test</code>"
   ]
  },
  {
   "cell_type": "code",
   "execution_count": 13,
   "id": "3044d3e3-0e6d-494f-8713-018444821576",
   "metadata": {},
   "outputs": [
    {
     "name": "stdout",
     "output_type": "stream",
     "text": [
      "0       1\n",
      "1       0\n",
      "2       0\n",
      "3       0\n",
      "4       0\n",
      "       ..\n",
      "3517    0\n",
      "3518    0\n",
      "3519    0\n",
      "3520    1\n",
      "3521    0\n",
      "Name: Married, Length: 3522, dtype: int32\n",
      "0       0\n",
      "1       0\n",
      "2       0\n",
      "3       0\n",
      "4       0\n",
      "       ..\n",
      "3517    0\n",
      "3518    0\n",
      "3519    0\n",
      "3520    1\n",
      "3521    0\n",
      "Name: Children, Length: 3522, dtype: int32\n",
      "0       0\n",
      "1       1\n",
      "2       1\n",
      "3       0\n",
      "4       1\n",
      "       ..\n",
      "3517    1\n",
      "3518    1\n",
      "3519    1\n",
      "3520    1\n",
      "3521    1\n",
      "Name: Phone_Service, Length: 3522, dtype: int32\n",
      "0       1\n",
      "1       0\n",
      "2       0\n",
      "3       1\n",
      "4       2\n",
      "       ..\n",
      "3517    2\n",
      "3518    2\n",
      "3519    0\n",
      "3520    2\n",
      "3521    0\n",
      "Name: Multiple_Lines, Length: 3522, dtype: int32\n",
      "0       0\n",
      "1       0\n",
      "2       0\n",
      "3       0\n",
      "4       1\n",
      "       ..\n",
      "3517    1\n",
      "3518    1\n",
      "3519    2\n",
      "3520    1\n",
      "3521    1\n",
      "Name: Internet_Service, Length: 3522, dtype: int32\n",
      "0       0\n",
      "1       2\n",
      "2       2\n",
      "3       2\n",
      "4       0\n",
      "       ..\n",
      "3517    0\n",
      "3518    2\n",
      "3519    1\n",
      "3520    0\n",
      "3521    2\n",
      "Name: Online_Security, Length: 3522, dtype: int32\n",
      "0       2\n",
      "1       0\n",
      "2       2\n",
      "3       0\n",
      "4       0\n",
      "       ..\n",
      "3517    0\n",
      "3518    2\n",
      "3519    1\n",
      "3520    2\n",
      "3521    0\n",
      "Name: Online_Backup, Length: 3522, dtype: int32\n",
      "0       0\n",
      "1       2\n",
      "2       0\n",
      "3       2\n",
      "4       2\n",
      "       ..\n",
      "3517    0\n",
      "3518    2\n",
      "3519    1\n",
      "3520    2\n",
      "3521    2\n",
      "Name: Device_Protection, Length: 3522, dtype: int32\n",
      "0       0\n",
      "1       0\n",
      "2       0\n",
      "3       2\n",
      "4       0\n",
      "       ..\n",
      "3517    0\n",
      "3518    0\n",
      "3519    1\n",
      "3520    0\n",
      "3521    2\n",
      "Name: Tech_Support, Length: 3522, dtype: int32\n",
      "0       0\n",
      "1       0\n",
      "2       0\n",
      "3       0\n",
      "4       2\n",
      "       ..\n",
      "3517    0\n",
      "3518    2\n",
      "3519    1\n",
      "3520    2\n",
      "3521    2\n",
      "Name: Streaming_TV, Length: 3522, dtype: int32\n",
      "0       0\n",
      "1       0\n",
      "2       0\n",
      "3       0\n",
      "4       2\n",
      "       ..\n",
      "3517    0\n",
      "3518    0\n",
      "3519    1\n",
      "3520    2\n",
      "3521    2\n",
      "Name: Streaming_Movies, Length: 3522, dtype: int32\n",
      "0       0\n",
      "1       1\n",
      "2       0\n",
      "3       1\n",
      "4       0\n",
      "       ..\n",
      "3517    0\n",
      "3518    0\n",
      "3519    2\n",
      "3520    1\n",
      "3521    2\n",
      "Name: Type_contract, Length: 3522, dtype: int32\n",
      "0       1\n",
      "1       0\n",
      "2       1\n",
      "3       0\n",
      "4       1\n",
      "       ..\n",
      "3517    1\n",
      "3518    1\n",
      "3519    1\n",
      "3520    1\n",
      "3521    1\n",
      "Name: Paperless_Billing, Length: 3522, dtype: int32\n",
      "0       1\n",
      "1       2\n",
      "2       2\n",
      "3       0\n",
      "4       1\n",
      "       ..\n",
      "3517    1\n",
      "3518    3\n",
      "3519    0\n",
      "3520    3\n",
      "3521    0\n",
      "Name: Payment_Method, Length: 3522, dtype: int32\n"
     ]
    }
   ],
   "source": [
    "for f in features:\n",
    "    if train[f].dtype=='object' and test[f].dtype=='object':\n",
    "        re = LabelEncoder()\n",
    "        re.fit(list(train[f].values)+list(test[f].values))\n",
    "        train[f] = re.transform(train[f].values)                   # переписываем данные в тренировочной таблице в числовом виде\n",
    "        test[f] = re.transform(test[f].values)\n",
    "        re.classes_\n",
    "        print(test[f])"
   ]
  },
  {
   "cell_type": "markdown",
   "id": "a97616ac-8f02-464e-bbe1-1f06b1e5c88d",
   "metadata": {},
   "source": [
    "<center>[4] 💫</center>"
   ]
  },
  {
   "cell_type": "markdown",
   "id": "a0d7b40f-0d54-42e2-ac39-1e8b4c907f24",
   "metadata": {},
   "source": [
    "<H2>2. Выходные данные</H2>"
   ]
  },
  {
   "cell_type": "markdown",
   "id": "cf7bad87-db0e-4197-bffb-3594493ed3bd",
   "metadata": {},
   "source": [
    "Перейдем к тому, что мы должны получить на выходе"
   ]
  },
  {
   "cell_type": "markdown",
   "id": "42e26c05-5875-4613-b6f6-7952096ca5e0",
   "metadata": {},
   "source": [
    "<H3>2.1. Формат</H3>"
   ]
  },
  {
   "cell_type": "markdown",
   "id": "2fe5cd71-35de-4a17-b12e-bb173c803890",
   "metadata": {},
   "source": [
    "Как вы уже поняли, работать будем с форматом csv, поэтому выходной файл также нужно записать в формате csv  \n",
    "Для этого у класса <code>DataFrame</code> есть метод <code>to_csv</code>"
   ]
  },
  {
   "cell_type": "code",
   "execution_count": 14,
   "id": "5ad687e7-a63c-41c3-a7d7-83801f186499",
   "metadata": {},
   "outputs": [],
   "source": [
    "output_dir = os.path.join(cur_dir, 'outputs')\n",
    "os.makedirs(output_dir, exist_ok=True)               # создаем директорию outputs, если ее еще нет\n",
    "\n",
    "dummy_file = os.path.join(output_dir, 'dummy.csv')\n",
    "train.to_csv(dummy_file)                             # записываем тренировочную таблицу в dummy.csv"
   ]
  },
  {
   "cell_type": "markdown",
   "id": "fb86a93b-e733-47c4-837b-a39e10ba4367",
   "metadata": {},
   "source": [
    "<br>Теперь определимся, что конкретно должно храниться в выходной таблице"
   ]
  },
  {
   "cell_type": "markdown",
   "id": "b87fe5c3-2575-44cc-9a9c-6f35b77cbc98",
   "metadata": {},
   "source": [
    "<center>[5] ⭐</center>"
   ]
  },
  {
   "cell_type": "markdown",
   "id": "6600e007-9965-434b-a001-944e44aeb00f",
   "metadata": {},
   "source": [
    "Откройте файл <code>sample_submission.csv</code> и изучите его  \n",
    "Запишите в <code>dummy.csv</code> те же столбцы из таблицы <code>train</code>  \n",
    "\n",
    "<i>Подсказка: вытащить из таблицы несколько столбцов можно так же, как и один, если название параметра заменить списком названий</i>"
   ]
  },
  {
   "cell_type": "code",
   "execution_count": 15,
   "id": "14f04e70-955e-4709-a89e-d6dae832ac32",
   "metadata": {},
   "outputs": [
    {
     "data": {
      "text/html": [
       "<div>\n",
       "<style scoped>\n",
       "    .dataframe tbody tr th:only-of-type {\n",
       "        vertical-align: middle;\n",
       "    }\n",
       "\n",
       "    .dataframe tbody tr th {\n",
       "        vertical-align: top;\n",
       "    }\n",
       "\n",
       "    .dataframe thead th {\n",
       "        text-align: right;\n",
       "    }\n",
       "</style>\n",
       "<table border=\"1\" class=\"dataframe\">\n",
       "  <thead>\n",
       "    <tr style=\"text-align: right;\">\n",
       "      <th></th>\n",
       "      <th>Unnamed: 0</th>\n",
       "      <th>id</th>\n",
       "      <th>Gender</th>\n",
       "    </tr>\n",
       "  </thead>\n",
       "  <tbody>\n",
       "    <tr>\n",
       "      <th>0</th>\n",
       "      <td>0</td>\n",
       "      <td>100</td>\n",
       "      <td>0</td>\n",
       "    </tr>\n",
       "    <tr>\n",
       "      <th>1</th>\n",
       "      <td>1</td>\n",
       "      <td>101</td>\n",
       "      <td>1</td>\n",
       "    </tr>\n",
       "    <tr>\n",
       "      <th>2</th>\n",
       "      <td>2</td>\n",
       "      <td>102</td>\n",
       "      <td>1</td>\n",
       "    </tr>\n",
       "    <tr>\n",
       "      <th>3</th>\n",
       "      <td>3</td>\n",
       "      <td>103</td>\n",
       "      <td>1</td>\n",
       "    </tr>\n",
       "    <tr>\n",
       "      <th>4</th>\n",
       "      <td>4</td>\n",
       "      <td>105</td>\n",
       "      <td>0</td>\n",
       "    </tr>\n",
       "  </tbody>\n",
       "</table>\n",
       "</div>"
      ],
      "text/plain": [
       "   Unnamed: 0   id  Gender\n",
       "0           0  100       0\n",
       "1           1  101       1\n",
       "2           2  102       1\n",
       "3           3  103       1\n",
       "4           4  105       0"
      ]
     },
     "execution_count": 15,
     "metadata": {},
     "output_type": "execute_result"
    }
   ],
   "source": [
    "\n",
    "dummy_file = os.path.join(output_dir, 'dummy1.csv')\n",
    "test[[\"id\", \"Gender\"]].to_csv(dummy_file)\n",
    "\n",
    "dummy = pd.read_csv(dummy_file)\n",
    "dummy.head()\n"
   ]
  },
  {
   "cell_type": "markdown",
   "id": "eef775ac-aa24-44e5-a7b6-d5789bf35b70",
   "metadata": {},
   "source": [
    "<center>[5] 💫</center>"
   ]
  },
  {
   "cell_type": "markdown",
   "id": "86cf588f-cd3b-4305-a5d6-e143c3b1d029",
   "metadata": {},
   "source": [
    "<H3>2.2. Метрики</H3>"
   ]
  },
  {
   "cell_type": "markdown",
   "id": "c7fdeb33-bb67-4fb0-bc36-5c9dba497945",
   "metadata": {},
   "source": [
    "Выходные данные модели нужно как-то оценивать - иначе мы не поймем, хорошо ли она обучилась  \n",
    "Разберемся для начала, что собой представляют наши выходные данные"
   ]
  },
  {
   "cell_type": "markdown",
   "id": "4c83959d-170b-4c7c-aa6a-cbbb5f04764c",
   "metadata": {},
   "source": [
    "Помните цель лабораторной работы? По имеющимся табличным данным обученная модель должна предсказывать отток абонентов  \n",
    "То есть для каждого входного набора (абонента) будет ровно одно значение, показывающее, откажется он от услуг связи в следующем месяце или нет  \n",
    "Однако модель XGBoost предназначена для решения задач линейной регрессии, а не классификации  \n",
    "Это означает, что на выходе мы получим не нули и единицы, а значения из интервала \\[0; 1]"
   ]
  },
  {
   "cell_type": "markdown",
   "id": "7df5ae0f-1dc9-4e51-97af-b46032a1a2fe",
   "metadata": {},
   "source": [
    "Рассмотрим пример выходных данных модели, представленный в <code>trained_example.csv</code>  \n",
    "Для удобства в этой таблице приведены также реальные значения, с которыми нужно сравнивать предсказанные"
   ]
  },
  {
   "cell_type": "code",
   "execution_count": 16,
   "id": "b1443686-3421-48ab-ae90-b23e8fa0c91f",
   "metadata": {},
   "outputs": [
    {
     "name": "stdout",
     "output_type": "stream",
     "text": [
      "0       1.0\n",
      "1       0.0\n",
      "2       1.0\n",
      "3       0.0\n",
      "4       0.0\n",
      "       ... \n",
      "3516    0.0\n",
      "3517    0.0\n",
      "3518    0.0\n",
      "3519    0.0\n",
      "3520    1.0\n",
      "Name: real, Length: 3521, dtype: float64\n",
      "0       0.628940\n",
      "1       0.217250\n",
      "2       0.459837\n",
      "3       0.083132\n",
      "4       0.055535\n",
      "          ...   \n",
      "3516    0.490289\n",
      "3517    0.135952\n",
      "3518    0.130134\n",
      "3519    0.267984\n",
      "3520    0.618623\n",
      "Name: predicted, Length: 3521, dtype: float64\n"
     ]
    }
   ],
   "source": [
    "output_file = os.path.join(data_dir, 'trained_example.csv')\n",
    "output = pd.read_csv(output_file)\n",
    "\n",
    "real_values = output['real']\n",
    "predicted_values = output['predicted']\n",
    "\n",
    "print(real_values)\n",
    "print(predicted_values)"
   ]
  },
  {
   "cell_type": "markdown",
   "id": "171687d5-619b-4ce5-8f30-96e4a963a462",
   "metadata": {},
   "source": [
    "<br>Представим эти значения на графике, где на горизонтальной оси отложены предсказанные значения, а на вертикальной - реальные"
   ]
  },
  {
   "cell_type": "code",
   "execution_count": 17,
   "id": "49edd5de-6466-403f-8779-075f3c01cec6",
   "metadata": {},
   "outputs": [
    {
     "data": {
      "text/plain": [
       "<matplotlib.collections.PathCollection at 0x1e708bff760>"
      ]
     },
     "execution_count": 17,
     "metadata": {},
     "output_type": "execute_result"
    },
    {
     "data": {
      "image/png": "[encoded data removed]",
      "text/plain": [
       "<Figure size 640x480 with 1 Axes>"
      ]
     },
     "metadata": {},
     "output_type": "display_data"
    }
   ],
   "source": [
    "import matplotlib.pyplot as plt\n",
    "\n",
    "plt.ylabel('Real')\n",
    "plt.xlabel('Predicted')\n",
    "plt.scatter(predicted_values[::50], real_values[::50])          # для визуализации берем только часть точек, чтобы они не сливались в сплошную линию"
   ]
  },
  {
   "cell_type": "markdown",
   "id": "c3b6e0be-fca6-4a3c-9712-b7f1d3e3b624",
   "metadata": {},
   "source": [
    "<br>По вертикальной оси точки разделились на 2 четкие категории по реальным значениям параметра: 1 для верхних, 0 для нижних  \n",
    "По горизонтальной оси четкого разделения нет, что уже говорит о низкой эффективности решения  \n",
    "Тем не менее, в среднем нижние точки находятся левее, т.е. имеют меньшее предсказанное значение, а значит, представленное решение лучше случайного"
   ]
  },
  {
   "cell_type": "markdown",
   "id": "caf1ef66-cbff-4491-836f-3c675e3d2c4d",
   "metadata": {},
   "source": [
    "Но насколько оно лучше случайного? И как сравнить его с другими решениями?  \n",
    "Для ответов на эти вопросы существуют специальные метрики - численные показатели эффективности"
   ]
  },
  {
   "cell_type": "markdown",
   "id": "29fa602e-2316-44f2-adc2-86de283dadc4",
   "metadata": {},
   "source": [
    "Самая простая метрика - <code>accuracy</code> (точность)  \n",
    "Она представляет собой процент совпадения предсказанных значений с реальными"
   ]
  },
  {
   "cell_type": "code",
   "execution_count": 18,
   "id": "4442415e-d0a0-4ed1-98e1-830ed229cfa4",
   "metadata": {},
   "outputs": [
    {
     "data": {
      "text/plain": [
       "0.8017608633910821"
      ]
     },
     "execution_count": 18,
     "metadata": {},
     "output_type": "execute_result"
    }
   ],
   "source": [
    "import numpy as np\n",
    "from sklearn.metrics import accuracy_score\n",
    "\n",
    "predicted_rounded = np.round(predicted_values)      # округляем предсказанные значения\n",
    "accuracy_score(real_values, predicted_rounded)"
   ]
  },
  {
   "cell_type": "markdown",
   "id": "8db22959-e263-411c-9a11-465f246ba44f",
   "metadata": {},
   "source": [
    "<br>Точность решения 80% - неплохо, но можно и лучше!"
   ]
  },
  {
   "cell_type": "markdown",
   "id": "d65fc36f-2060-4f2d-a410-be06ff55a11b",
   "metadata": {},
   "source": [
    "В примере выше мы воспользовались правилами округления для предсказанных значений и приравняли значения меньше 0.5 к 0, а остальные к 1  \n",
    "Но можно использовать и другую пороговую точку"
   ]
  },
  {
   "cell_type": "code",
   "execution_count": 19,
   "id": "1ce565d5-296d-4990-9b1b-ee573bc63ca9",
   "metadata": {},
   "outputs": [
    {
     "data": {
      "text/plain": [
       "0.8077250781028117"
      ]
     },
     "execution_count": 19,
     "metadata": {},
     "output_type": "execute_result"
    }
   ],
   "source": [
    "threshold = 0.45\n",
    "predicted_rounded = np.zeros(len(predicted_values))      # инициализируем массив \"округленных\" значений нулями\n",
    "predicted_rounded[predicted_values > threshold] = 1      # меняем нули на единицы, когда предсказанные значения больше порога\n",
    "\n",
    "accuracy_score(real_values, predicted_rounded)"
   ]
  },
  {
   "cell_type": "markdown",
   "id": "5851ca56-d811-434f-9c37-5176e7856f5d",
   "metadata": {},
   "source": [
    "<br>Получается, что точность зависит от порогового значения  \n",
    "А где есть зависимость, должен быть и график"
   ]
  },
  {
   "cell_type": "markdown",
   "id": "9ec4d236-7f09-46ab-b7e9-6ba2fe6020e4",
   "metadata": {},
   "source": [
    "<center>[6] ⭐⭐</center>"
   ]
  },
  {
   "cell_type": "markdown",
   "id": "e9623057-1c80-4e2c-be84-19ddf5aef012",
   "metadata": {},
   "source": [
    "Постройте график зависимости <code>accuracy</code> от <code>threshold</code> для данного решения  \n",
    "Меняйте <code>threshold</code> от 0 до 1 с шагом 0.01"
   ]
  },
  {
   "cell_type": "code",
   "execution_count": 20,
   "id": "3d18cd2e-e7c2-4b97-a0fa-63fe536155b0",
   "metadata": {},
   "outputs": [
    {
     "data": {
      "text/plain": [
       "<matplotlib.collections.PathCollection at 0x1e70ae88ac0>"
      ]
     },
     "execution_count": 20,
     "metadata": {},
     "output_type": "execute_result"
    },
    {
     "data": {
      "image/png": "[encoded data removed]",
      "text/plain": [
       "<Figure size 640x480 with 1 Axes>"
      ]
     },
     "metadata": {},
     "output_type": "display_data"
    }
   ],
   "source": [
    "plt.ylabel('accuracy')\n",
    "plt.xlabel('threshold')\n",
    "\n",
    "accuracy = list()\n",
    "t=list()\n",
    "for i in range(0,100):\n",
    "    threshold = i/100\n",
    "    predicted_rounded = np.zeros(len(predicted_values))\n",
    "    predicted_rounded[predicted_values > threshold] = 1\n",
    "    t.append(threshold)\n",
    "    accuracy.append(accuracy_score(real_values,predicted_rounded))\n",
    "\n",
    "plt.scatter(t, accuracy)"
   ]
  },
  {
   "cell_type": "markdown",
   "id": "7cf15ee3-1381-4c34-9bea-961e7a883924",
   "metadata": {},
   "source": [
    "<center>[6] 💫</center>"
   ]
  },
  {
   "cell_type": "markdown",
   "id": "2ccdb4e4-4071-441f-9d9e-0392a38e34da",
   "metadata": {},
   "source": [
    "В реальности для оценки решений часто используется другая кривая - <code>ROC</code>  \n",
    "По горизонтальной оси откладывается число ложноположительных (false positive) результатов, а по вертикальной - число истинно положительных (true positive)  \n",
    "Точки на графике также строятся при различных значениях порога"
   ]
  },
  {
   "cell_type": "code",
   "execution_count": 21,
   "id": "aec61aaa-18b8-418c-8a9c-8494bc357871",
   "metadata": {},
   "outputs": [
    {
     "data": {
      "text/plain": [
       "[<matplotlib.lines.Line2D at 0x1e70b018f40>]"
      ]
     },
     "execution_count": 21,
     "metadata": {},
     "output_type": "execute_result"
    },
    {
     "data": {
      "image/png": "[encoded data removed]",
      "text/plain": [
       "<Figure size 640x480 with 1 Axes>"
      ]
     },
     "metadata": {},
     "output_type": "display_data"
    }
   ],
   "source": [
    "from sklearn.metrics import roc_curve\n",
    "\n",
    "fpr, tpr, _ = roc_curve(real_values, predicted_values)      # Используем уже исходные значения, не округленные!\n",
    "plt.plot(fpr, tpr)"
   ]
  },
  {
   "cell_type": "markdown",
   "id": "d52510e8-4fee-42f7-a186-d2bc17a9afa6",
   "metadata": {},
   "source": [
    "<br>Чем ближе кривая к 1 по вертикальной оси, тем лучше предсказанные значения соответствуют реальным  \n",
    "Чтобы дать этому численную оценку, используют метрику <code>ROC AUC</code>, т.е. площадь под кривой ROC  "
   ]
  },
  {
   "cell_type": "code",
   "execution_count": 22,
   "id": "ca0a24f2-46eb-41c3-80a3-14e83504600a",
   "metadata": {},
   "outputs": [
    {
     "data": {
      "text/plain": [
       "0.855536898772447"
      ]
     },
     "execution_count": 22,
     "metadata": {},
     "output_type": "execute_result"
    }
   ],
   "source": [
    "from sklearn.metrics import roc_auc_score\n",
    "\n",
    "roc_auc_score(real_values, predicted_values)"
   ]
  },
  {
   "cell_type": "markdown",
   "id": "6ac2d6b1-677b-4c3f-b401-9e8f863cd34c",
   "metadata": {},
   "source": [
    "<H2>3. Модель</H2>"
   ]
  },
  {
   "cell_type": "markdown",
   "id": "075732f0-939a-4d7e-a534-04045a027d20",
   "metadata": {},
   "source": [
    "Перейдем к главной части - обучению самой модели "
   ]
  },
  {
   "cell_type": "markdown",
   "id": "d6fd8d1c-af87-499a-a200-5d8e1bc93505",
   "metadata": {},
   "source": [
    "<H3>3.1. Параметры</H3>"
   ]
  },
  {
   "cell_type": "markdown",
   "id": "95d0f7ee-c23d-4bed-b44c-ab9e51b112fe",
   "metadata": {},
   "source": [
    "Начнем с установки параметров обучения"
   ]
  },
  {
   "cell_type": "code",
   "execution_count": 37,
   "id": "75d551ab-4596-46a5-92af-ad4357599597",
   "metadata": {},
   "outputs": [],
   "source": [
    "import xgboost as xgb\n",
    "\n",
    "params_xgb = {\n",
    "    \"objective\": \"binary:logistic\",     # вид предсказываемого значения, в данном случае бинарное\n",
    "    \"eval_metric\": 'auc',               # метрика эффективности\n",
    "    \"eta\": 0.01,                        # коэффициент скорости обучения\n",
    "    \"max_depth\": 2,                     # максимальная глубина (высота) дерева\n",
    "    \"subsample\": 0.7,                   # размер выборки для тренировки \n",
    "    \"colsample_bytree\": 0.8,            # доля параметров, используемых при создании дерева\n",
    "}\n",
    "\n",
    "num_boost_round = 70                    # количество итераций\n",
    "early_stopping_rounds = 10              # количество итераций без улучшения результата для ранней остановки"
   ]
  },
  {
   "cell_type": "markdown",
   "id": "ca7705c6-4e09-4e39-a00b-2a3e9afa6faa",
   "metadata": {},
   "source": [
    "<H3>3.2. Обучение</H3>"
   ]
  },
  {
   "cell_type": "markdown",
   "id": "6dfc911c-4fe4-421a-b5b1-1501dc63dee1",
   "metadata": {},
   "source": [
    "Для обучения разделим размеченный набор данных на тренировочный и валидационный"
   ]
  },
  {
   "cell_type": "code",
   "execution_count": 38,
   "id": "e2e6df56-b216-4d20-a64a-39d8c80a5a3e",
   "metadata": {},
   "outputs": [],
   "source": [
    "from sklearn.model_selection import train_test_split\n",
    "\n",
    "target = 'Leave_Next_Month'\n",
    "\n",
    "if target in features:\n",
    "    features.remove(target)        # удаляем значение, которое нужно предсказать, из списка параметров обучения, иначе модель будет использовать его же для предсказания\n",
    "\n",
    "train_split, valid = train_test_split(train, test_size=0.3)       # разделяем в соотношении 70/30"
   ]
  },
  {
   "cell_type": "markdown",
   "id": "9ca680e5-bc72-4bc4-a32e-32dd64fb3ec2",
   "metadata": {},
   "source": [
    "<br>Представим тренировочный и валидационный наборы в виде <code>DMatrix</code>, чтобы XGBoost мог с ними работать"
   ]
  },
  {
   "cell_type": "code",
   "execution_count": 39,
   "id": "a482556e-f93d-4069-bbb6-e800ef575c15",
   "metadata": {},
   "outputs": [],
   "source": [
    "dtrain = xgb.DMatrix(train_split[features].values, train_split[target].values)\n",
    "dvalid = xgb.DMatrix(valid[features].values, valid[target].values)"
   ]
  },
  {
   "cell_type": "markdown",
   "id": "c81b324a-918e-4237-af21-5805508fe36f",
   "metadata": {},
   "source": [
    "<br>И наконец, проведем само обучение"
   ]
  },
  {
   "cell_type": "code",
   "execution_count": 40,
   "id": "6023bf4e-95a9-490a-b6d7-5a0d2e65b252",
   "metadata": {},
   "outputs": [
    {
     "name": "stdout",
     "output_type": "stream",
     "text": [
      "[0]\ttrain-auc:0.77507\teval-auc:0.77334\n",
      "[10]\ttrain-auc:0.83566\teval-auc:0.82591\n",
      "[20]\ttrain-auc:0.83761\teval-auc:0.83027\n",
      "[30]\ttrain-auc:0.83915\teval-auc:0.83042\n",
      "[40]\ttrain-auc:0.83948\teval-auc:0.83115\n",
      "[49]\ttrain-auc:0.84014\teval-auc:0.83067\n"
     ]
    }
   ],
   "source": [
    "watchlist = [(dtrain, 'train'), (dvalid, 'eval')]\n",
    "gbm = xgb.train(params_xgb, dtrain, num_boost_round, evals=watchlist,\n",
    "                early_stopping_rounds=early_stopping_rounds, verbose_eval=10)       # gbm - обученная модель"
   ]
  },
  {
   "cell_type": "markdown",
   "id": "d482c5e9-0772-4435-b5b1-54df1cf076c5",
   "metadata": {},
   "source": [
    "<H3>3.3. Применение</H3>"
   ]
  },
  {
   "cell_type": "markdown",
   "id": "c157c67e-7999-4b6c-8ba9-181bf8028ca5",
   "metadata": {},
   "source": [
    "Теперь используем обученную модель для предсказания  \n",
    "Воспользуемся еще раз валидационным набором"
   ]
  },
  {
   "cell_type": "code",
   "execution_count": 41,
   "id": "9186ca5d-c572-4f29-955c-912a08feb326",
   "metadata": {},
   "outputs": [
    {
     "data": {
      "text/plain": [
       "array([0.34291726, 0.46726152, 0.47843406, ..., 0.4618847 , 0.34291726,\n",
       "       0.44028872], dtype=float32)"
      ]
     },
     "execution_count": 41,
     "metadata": {},
     "output_type": "execute_result"
    }
   ],
   "source": [
    "pred = gbm.predict(dvalid, iteration_range = (0, gbm.best_iteration + 1))\n",
    "pred"
   ]
  },
  {
   "cell_type": "markdown",
   "id": "22677177-6def-4712-8c33-82d15f80b52d",
   "metadata": {},
   "source": [
    "<br>Модель возвращает список предсказанных значений для входных данных  \n",
    "Сравним эти значения с теми, которые мы хотели получить"
   ]
  },
  {
   "cell_type": "code",
   "execution_count": 42,
   "id": "e186a808-a685-405e-86d6-a2cea33d3802",
   "metadata": {},
   "outputs": [
    {
     "name": "stdout",
     "output_type": "stream",
     "text": [
      "Accuracy: 79.19 %, ROC AUC: 0.83\n"
     ]
    }
   ],
   "source": [
    "real = valid[target].values\n",
    "accuracy = accuracy_score(real, np.round(pred))\n",
    "auc = roc_auc_score(real, pred)\n",
    "print('Accuracy: {:.2f} %, ROC AUC: {:.2f}'.format(100*accuracy, auc))"
   ]
  },
  {
   "cell_type": "markdown",
   "id": "a4baa0b4-a00e-44e0-b7a8-b8a67dc0e13b",
   "metadata": {},
   "source": [
    "<center>[7] ⭐⭐</center>"
   ]
  },
  {
   "cell_type": "markdown",
   "id": "3628e3f8-7a1f-43f9-87e1-958cf3bb29be",
   "metadata": {},
   "source": [
    "Примените эту же модель к тестовым данным  \n",
    "Запишите результаты (обратитесь к файлу <code>sample_submission.csv</code> за форматом записи)  \n",
    "\n",
    "<i>Прим.: придется погуглить, как объединить список id и список предсказанных значений в новый DataFrame</i>"
   ]
  },
  {
   "cell_type": "code",
   "execution_count": 43,
   "id": "98e59091-46a9-4d5d-ae39-a73516c3fe64",
   "metadata": {},
   "outputs": [
    {
     "name": "stdout",
     "output_type": "stream",
     "text": [
      "3522 3521\n"
     ]
    },
    {
     "data": {
      "text/html": [
       "<div>\n",
       "<style scoped>\n",
       "    .dataframe tbody tr th:only-of-type {\n",
       "        vertical-align: middle;\n",
       "    }\n",
       "\n",
       "    .dataframe tbody tr th {\n",
       "        vertical-align: top;\n",
       "    }\n",
       "\n",
       "    .dataframe thead th {\n",
       "        text-align: right;\n",
       "    }\n",
       "</style>\n",
       "<table border=\"1\" class=\"dataframe\">\n",
       "  <thead>\n",
       "    <tr style=\"text-align: right;\">\n",
       "      <th></th>\n",
       "      <th>id</th>\n",
       "      <th>Leave_Next_Month</th>\n",
       "    </tr>\n",
       "  </thead>\n",
       "  <tbody>\n",
       "    <tr>\n",
       "      <th>0</th>\n",
       "      <td>100</td>\n",
       "      <td>0.470966</td>\n",
       "    </tr>\n",
       "    <tr>\n",
       "      <th>1</th>\n",
       "      <td>101</td>\n",
       "      <td>0.360487</td>\n",
       "    </tr>\n",
       "    <tr>\n",
       "      <th>2</th>\n",
       "      <td>102</td>\n",
       "      <td>0.419510</td>\n",
       "    </tr>\n",
       "    <tr>\n",
       "      <th>3</th>\n",
       "      <td>103</td>\n",
       "      <td>0.354050</td>\n",
       "    </tr>\n",
       "    <tr>\n",
       "      <th>4</th>\n",
       "      <td>105</td>\n",
       "      <td>0.520323</td>\n",
       "    </tr>\n",
       "  </tbody>\n",
       "</table>\n",
       "</div>"
      ],
      "text/plain": [
       "    id  Leave_Next_Month\n",
       "0  100          0.470966\n",
       "1  101          0.360487\n",
       "2  102          0.419510\n",
       "3  103          0.354050\n",
       "4  105          0.520323"
      ]
     },
     "execution_count": 43,
     "metadata": {},
     "output_type": "execute_result"
    }
   ],
   "source": [
    "import xgboost as xgb\n",
    "\n",
    "params_xgb = {\n",
    "    \"objective\": \"binary:logistic\",     # вид предсказываемого значения, в данном случае бинарное\n",
    "    \"eval_metric\": 'auc',               # метрика эффективности\n",
    "    \"eta\": 0.01,                        # коэффициент скорости обучения\n",
    "    \"max_depth\": 2,                     # максимальная глубина (высота) дерева\n",
    "    \"subsample\": 0.8,                   # размер выборки для тренировки \n",
    "    \"colsample_bytree\": 0.8,            # доля параметров, используемых при создании дерева\n",
    "}\n",
    "\n",
    "num_boost_round = 70                    # количество итераций\n",
    "early_stopping_rounds = 10              # количество итераций без улучшения результата для ранней остановки\n",
    "\n",
    "\n",
    "from sklearn.model_selection import train_test_split\n",
    "\n",
    "target = 'Leave_Next_Month'\n",
    "\n",
    " \n",
    "\n",
    "valid = test\n",
    "\n",
    "\n",
    "\n",
    "dvalid = xgb.DMatrix(valid[features].values)\n",
    "\n",
    "pred = gbm.predict(dvalid, iteration_range = (0, gbm.best_iteration+1))\n",
    "print(len(pred), len(train))\n",
    "\n",
    "df = pd.DataFrame(data = {'id':test['id']})\n",
    "df['Leave_Next_Month'] = pred.tolist()\n",
    "\n",
    "\n",
    "dummy_file = os.path.join(output_dir, 'dummy1.csv')\n",
    "df.to_csv(dummy_file, index = False)\n",
    "\n",
    "\n",
    "dummy = pd.read_csv(dummy_file)\n",
    "dummy.head()\n"
   ]
  },
  {
   "cell_type": "markdown",
   "id": "722dfa4e-150a-4475-9b9b-74fd222807f6",
   "metadata": {},
   "source": [
    "<center>[7] 💫</center>"
   ]
  },
  {
   "cell_type": "code",
   "execution_count": 2,
   "id": "12645d54-2000-4802-ba10-f8b021f5c6bf",
   "metadata": {},
   "outputs": [
    {
     "name": "stdout",
     "output_type": "stream",
     "text": [
      "ROCAUC: 0.675\n"
     ]
    }
   ],
   "source": [
    "from sklearn.metrics import roc_auc_score\n",
    "import numpy as np\n",
    "\n",
    "# Фактические значения\n",
    "actual = np.array([0, 1, 1, 0, 1, 1, 0, 0, 1])\n",
    "# Предсказания\n",
    "predictions = np.array([1, 1, 7, 8, 12, 9, 10, 3, 14])\n",
    "\n",
    "# Рассчитываем ROCAUC\n",
    "rocauc = roc_auc_score(actual, predictions)\n",
    "print(\"ROCAUC:\", rocauc)"
   ]
  }
 ],
 "metadata": {
  "kernelspec": {
   "display_name": "Python 3 (ipykernel)",
   "language": "python",
   "name": "python3"
  },
  "language_info": {
   "codemirror_mode": {
    "name": "ipython",
    "version": 3
   },
   "file_extension": ".py",
   "mimetype": "text/x-python",
   "name": "python",
   "nbconvert_exporter": "python",
   "pygments_lexer": "ipython3",
   "version": "3.8.17"
  }
 },
 "nbformat": 4,
 "nbformat_minor": 5
}
